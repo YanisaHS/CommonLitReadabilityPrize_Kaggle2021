{
  "nbformat": 4,
  "nbformat_minor": 0,
  "metadata": {
    "colab": {
      "name": "01_clrp_data_preparation.ipynb",
      "provenance": []
    },
    "kernelspec": {
      "name": "python3",
      "display_name": "Python 3"
    },
    "language_info": {
      "name": "python"
    },
    "accelerator": "GPU"
  },
  "cells": [
    {
      "cell_type": "markdown",
      "metadata": {
        "id": "uwTVLCTXWGuR"
      },
      "source": [
        "#Setup"
      ]
    },
    {
      "cell_type": "code",
      "metadata": {
        "id": "M6JW9m3nWIf-"
      },
      "source": [
        "!pip install numpy\n",
        "!pip install pandas\n",
        "!pip install sklearn"
      ],
      "execution_count": null,
      "outputs": []
    },
    {
      "cell_type": "code",
      "metadata": {
        "id": "VgAHilC2WZ16"
      },
      "source": [
        "import numpy as np\n",
        "import pandas as pd\n",
        "import math\n",
        "import itertools\n",
        "import random\n",
        "import os\n",
        "import gzip\n",
        "import json\n",
        "from sklearn.model_selection import StratifiedKFold\n",
        "import shutil"
      ],
      "execution_count": null,
      "outputs": []
    },
    {
      "cell_type": "code",
      "metadata": {
        "id": "FqQyqJrWYblS"
      },
      "source": [
        "# Open up gdrive to get files\n",
        "\n",
        "from google.colab import drive\n",
        "drive.mount('gdrive')"
      ],
      "execution_count": null,
      "outputs": []
    },
    {
      "cell_type": "markdown",
      "metadata": {
        "id": "YtQiZchuYObs"
      },
      "source": [
        "# Constants"
      ]
    },
    {
      "cell_type": "code",
      "metadata": {
        "id": "MPuHJc1eYQJE"
      },
      "source": [
        "### GLOBAL VARIABLES ###\n",
        "\n",
        "BASE_PATH = 'gdrive/MyDrive/colabNotebooks/commonLitReadabilityPrize/firstPlace_CodeFiles'"
      ],
      "execution_count": null,
      "outputs": []
    },
    {
      "cell_type": "code",
      "metadata": {
        "id": "VIOcjB6-bHPj"
      },
      "source": [
        "TRAIN_PATH = os.path.join(BASE_PATH, 'data/training/original/train.csv')\n",
        "CV_OUT_PATH = os.path.join(BASE_PATH, 'data/training/cv')\n",
        "BS_OUT_PATH = os.path.join(BASE_PATH, 'data/training/bs')\n",
        "\n",
        "# Adding this below - not sure if SEED is supposed to =28, but that's what they assigned it \n",
        "#   to in some other files, and it seems like they forgot to assign it in this notebook\n",
        "SEED = 28"
      ],
      "execution_count": null,
      "outputs": []
    },
    {
      "cell_type": "markdown",
      "metadata": {
        "id": "xkLqmtm8Wsck"
      },
      "source": [
        "# Functions"
      ]
    },
    {
      "cell_type": "code",
      "metadata": {
        "id": "EnFw0t5lXY03"
      },
      "source": [
        "def prepare_bootstrap(df, n_bags, save_path):\n",
        "  for i in range(n_bags):\n",
        "    bag = df.sample(n=len(df), replace=True)\n",
        "    bag_val = df[~df.id.isin(bag.id)]\n",
        "    out_train = os.path.join(save_path, 'train_fold_' + str(i) + '.csv')\n",
        "    out_val = os.path.join(save_path, 'val_fold_' + str(i) + '.csv')\n",
        "    bag.to_csv(out_train)\n",
        "    bag_val.to_csv(out_val)"
      ],
      "execution_count": null,
      "outputs": []
    },
    {
      "cell_type": "code",
      "metadata": {
        "id": "J0DBzdmgYEMy"
      },
      "source": [
        "def make_cv_data(df, out_path, kfolds=6):\n",
        "  get_bin_stratified(df, n_splits=kfolds)\n",
        "  for fold in range(kfolds):\n",
        "    print('Fold:', fold)\n",
        "    train_df = df.loc[df.fold!=fold].reset_index(drop=True)\n",
        "    val_df = df.loc[df.fold==fold].reset_index(drop=True)\n",
        "    train_df.to_csv(out_path + '/train_fold_' + str(fold) + '.csv')\n",
        "    val_df.to_csv(out_path + '/val_fold_' + str(fold) + '.csv')"
      ],
      "execution_count": null,
      "outputs": []
    },
    {
      "cell_type": "code",
      "metadata": {
        "id": "cHpgoBZSMib7"
      },
      "source": [
        "def get_bin_stratified(df, n_bins=20, n_splits=5):\n",
        "    df['bin'] = pd.cut(df.target, n_bins, labels=[i for i in range(n_bins)])\n",
        "    \n",
        "    df['fold'] = np.nan\n",
        "\n",
        "    skf = StratifiedKFold(n_splits=n_splits, random_state=SEED, shuffle=True)\n",
        "    gen_skf = skf.split(df.id, y=df.bin)\n",
        "\n",
        "    for fold, (idx_train, idx_val) in enumerate(gen_skf):\n",
        "        df.loc[idx_val, 'fold'] = fold\n",
        "    \n",
        "    df['fold'] = df['fold'].astype('int8')"
      ],
      "execution_count": null,
      "outputs": []
    },
    {
      "cell_type": "markdown",
      "metadata": {
        "id": "FjBEUthJYFYy"
      },
      "source": [
        "# Prepare train splits"
      ]
    },
    {
      "cell_type": "code",
      "metadata": {
        "id": "CoQs5JkaYII6"
      },
      "source": [
        "train_df = pd.read_csv(TRAIN_PATH)\n",
        "make_cv_data(df=train_df, out_path=CV_OUT_PATH)\n"
      ],
      "execution_count": null,
      "outputs": []
    },
    {
      "cell_type": "code",
      "metadata": {
        "id": "0Y-RHey6NSjk"
      },
      "source": [
        "train_df = pd.read_csv(TRAIN_PATH)\n",
        "prepare_bootstrap(df=train_df, n_bags=6, save_path=BS_OUT_PATH)"
      ],
      "execution_count": null,
      "outputs": []
    }
  ]
}